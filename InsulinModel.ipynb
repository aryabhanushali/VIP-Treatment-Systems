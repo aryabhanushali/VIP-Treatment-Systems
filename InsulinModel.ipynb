
import pandas as pd
import numpy as np
from sklearn.model_selection import train_test_split
from sklearn.linear_model import LinearRegression
import matplotlib.pyplot as plt
from sklearn.metrics import mean_squared_error, mean_absolute_error, r2_score

orgData = pd.read_csv('diabetes.csv')
orgData
orgData = orgData.drop(columns=orgData.columns[[8]])
orgData
db = pd.DataFrame(data = orgData)
db = db.iloc[:,[0,1,2,3,5,6,7,4]]
db
#Pregnancies, Glucose, BloodPressure, SkinThickness, BMI, DiabetesPedigreeFunction, Age
X = db.iloc[:,[0,1,2,3,4,5,6]].to_numpy().reshape(-1, 7)
#Insulin
Y = db['Insulin'].to_numpy().reshape(-1, 1)
X
#print(X.shape)
Y
#print(Y.shape)

X_train, X_test, Y_train, Y_test = train_test_split(X, Y, test_size=0.4, train_size=0.6, random_state=35)
print(X_train.shape)
X_train
print(X_test.shape)
X_test
print(Y_train.shape)
Y_train
print(Y_test.shape)
Y_test
model = LinearRegression()
model.fit(X_train, Y_train)
y_pred = model.predict(X_test)
y_pred
cols = list(db)
print(model.coef_) #regression coefficients
coef_size = len(model.coef_[0])
for i in range(coef_size):
    print(cols[i], model.coef_[0][i])
print("Intercept = ",model.intercept_)

plt.figure(figsize=(8,5))
plt.scatter(Y_test, y_pred)
plt.xlabel("Actual Insulin Dosage")
plt.ylabel("Predicted Insulin Dosage")
plt.title("Actual vs. Predicted Insulin Dosage (mu U/ml)")
mae = mean_absolute_error(Y_test, y_pred) 
mse = mean_squared_error(Y_test, y_pred)
r2 = r2_score(Y_test, y_pred) #Coefficient of Determination
print("Mean Absolute Error = ", mae)
print("Mean Squared Error = ", mse)
print("R2 Score = ", r2)
